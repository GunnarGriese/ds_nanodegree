{
 "cells": [
  {
   "cell_type": "markdown",
   "metadata": {},
   "source": [
    "# Neural networks with PyTorch\n",
    "\n",
    "Deep learning networks tend to be massive with dozens or hundreds of layers, that's where the term \"deep\" comes from. You can build one of these deep networks using only weight matrices as we did in the previous notebook, but in general it's very cumbersome and difficult to implement. PyTorch has a nice module `nn` that provides a nice way to efficiently build large neural networks."
   ]
  },
  {
   "cell_type": "code",
   "execution_count": 1,
   "metadata": {},
   "outputs": [],
   "source": [
    "# Import necessary packages\n",
    "\n",
    "%matplotlib inline\n",
    "%config InlineBackend.figure_format = 'retina'\n",
    "\n",
    "import numpy as np\n",
    "import torch\n",
    "\n",
    "import helper\n",
    "\n",
    "import matplotlib.pyplot as plt"
   ]
  },
  {
   "cell_type": "markdown",
   "metadata": {},
   "source": [
    "\n",
    "Now we're going to build a larger network that can solve a (formerly) difficult problem, identifying text in an image. Here we'll use the MNIST dataset which consists of greyscale handwritten digits. Each image is 28x28 pixels, you can see a sample below\n",
    "\n",
    "<img src='assets/mnist.png'>\n",
    "\n",
    "Our goal is to build a neural network that can take one of these images and predict the digit in the image.\n",
    "\n",
    "First up, we need to get our dataset. This is provided through the `torchvision` package. The code below will download the MNIST dataset, then create training and test datasets for us. Don't worry too much about the details here, you'll learn more about this later."
   ]
  },
  {
   "cell_type": "code",
   "execution_count": 2,
   "metadata": {},
   "outputs": [
    {
     "name": "stdout",
     "output_type": "stream",
     "text": [
      "Downloading http://yann.lecun.com/exdb/mnist/train-images-idx3-ubyte.gz\n",
      "Downloading http://yann.lecun.com/exdb/mnist/train-labels-idx1-ubyte.gz\n",
      "Downloading http://yann.lecun.com/exdb/mnist/t10k-images-idx3-ubyte.gz\n",
      "Downloading http://yann.lecun.com/exdb/mnist/t10k-labels-idx1-ubyte.gz\n",
      "Processing...\n",
      "Done!\n"
     ]
    }
   ],
   "source": [
    "### Run this cell\n",
    "\n",
    "from torchvision import datasets, transforms\n",
    "\n",
    "# Define a transform to normalize the data\n",
    "transform = transforms.Compose([transforms.ToTensor(),\n",
    "                              transforms.Normalize((0.5,), (0.5,)),\n",
    "                              ])\n",
    "\n",
    "# Download and load the training data\n",
    "trainset = datasets.MNIST('~/.pytorch/MNIST_data/', download=True, train=True, transform=transform)\n",
    "trainloader = torch.utils.data.DataLoader(trainset, batch_size=64, shuffle=True)"
   ]
  },
  {
   "cell_type": "markdown",
   "metadata": {},
   "source": [
    "We have the training data loaded into `trainloader` and we make that an iterator with `iter(trainloader)`. Later, we'll use this to loop through the dataset for training, like\n",
    "\n",
    "```python\n",
    "for image, label in trainloader:\n",
    "    ## do things with images and labels\n",
    "```\n",
    "\n",
    "You'll notice I created the `trainloader` with a batch size of 64, and `shuffle=True`. The batch size is the number of images we get in one iteration from the data loader and pass through our network, often called a *batch*. And `shuffle=True` tells it to shuffle the dataset every time we start going through the data loader again. But here I'm just grabbing the first batch so we can check out the data. We can see below that `images` is just a tensor with size `(64, 1, 28, 28)`. So, 64 images per batch, 1 color channel, and 28x28 images."
   ]
  },
  {
   "cell_type": "code",
   "execution_count": 3,
   "metadata": {},
   "outputs": [
    {
     "name": "stdout",
     "output_type": "stream",
     "text": [
      "<class 'torch.Tensor'>\n",
      "torch.Size([64, 1, 28, 28])\n",
      "torch.Size([64])\n"
     ]
    }
   ],
   "source": [
    "dataiter = iter(trainloader)\n",
    "images, labels = dataiter.next()\n",
    "print(type(images))\n",
    "print(images.shape)\n",
    "print(labels.shape)"
   ]
  },
  {
   "cell_type": "markdown",
   "metadata": {},
   "source": [
    "This is what one of the images looks like. "
   ]
  },
  {
   "cell_type": "code",
   "execution_count": 4,
   "metadata": {},
   "outputs": [
    {
     "data": {
      "image/png": "[encoded data removed]",
      "text/plain": [
       "<matplotlib.figure.Figure at 0x7fe0693eeb70>"
      ]
     },
     "metadata": {
      "image/png": {
       "height": 250,
       "width": 253
      },
      "needs_background": "light"
     },
     "output_type": "display_data"
    }
   ],
   "source": [
    "plt.imshow(images[1].numpy().squeeze(), cmap='Greys_r');"
   ]
  },
  {
   "cell_type": "markdown",
   "metadata": {},
   "source": [
    "First, let's try to build a simple network for this dataset using weight matrices and matrix multiplications. Then, we'll see how to do it using PyTorch's `nn` module which provides a much more convenient and powerful method for defining network architectures.\n",
    "\n",
    "The networks you've seen so far are called *fully-connected* or *dense* networks. Each unit in one layer is connected to each unit in the next layer. In fully-connected networks, the input to each layer must be a one-dimensional vector (which can be stacked into a 2D tensor as a batch of multiple examples). However, our images are 28x28 2D tensors, so we need to convert them into 1D vectors. Thinking about sizes, we need to convert the batch of images with shape `(64, 1, 28, 28)` to a have a shape of `(64, 784)`, 784 is 28 times 28. This is typically called *flattening*, we flattened the 2D images into 1D vectors.\n",
    "\n",
    "Previously you built a network with one output unit. Here we need 10 output units, one for each digit. We want our network to predict the digit shown in an image, so what we'll do is calculate probabilities that the image is of any one digit or class. This ends up being a discrete probability distribution over the classes (digits) that tells us the most likely class for the image. That means we need 10 output units for the 10 classes (digits). We'll see how to convert the network output into a probability distribution next.\n",
    "\n",
    "> **Exercise:** Flatten the batch of images `images`. Then build a multi-layer network with 784 input units, 256 hidden units, and 10 output units using random tensors for the weights and biases. For now, use a sigmoid activation for the hidden layer. Leave the output layer without an activation, we'll add one that gives us a probability distribution next."
   ]
  },
  {
   "cell_type": "code",
   "execution_count": 8,
   "metadata": {},
   "outputs": [
    {
     "data": {
      "text/plain": [
       "784"
      ]
     },
     "execution_count": 8,
     "metadata": {},
     "output_type": "execute_result"
    }
   ],
   "source": [
    "# flattening images to input vector (64, 784)\n",
    "features = images.reshape(64, 784)\n",
    "features.shape[1]"
   ]
  },
  {
   "cell_type": "code",
   "execution_count": 16,
   "metadata": {},
   "outputs": [],
   "source": [
    "## Your solution\n",
    "def activation(x):\n",
    "    return 1/(1+torch.exp(-x))\n",
    "    \n",
    "### Generate some data\n",
    "torch.manual_seed(6) # Set the random seed so things are predictable\n",
    "\n",
    "\n",
    "# Define the size of each layer in our network\n",
    "n_input = features.shape[1]     # Number of input units, must match number of input features\n",
    "n_hidden = 256                    # Number of hidden units \n",
    "n_output = 10                    # Number of output units\n",
    "\n",
    "# Weights for inputs to hidden layer\n",
    "W1 = torch.randn(n_input, n_hidden)\n",
    "# Weights for hidden layer to output layer\n",
    "W2 = torch.randn(n_hidden, n_output)\n",
    "\n",
    "# and bias terms for hidden and output layers\n",
    "B1 = torch.randn((1, n_hidden))\n",
    "B2 = torch.randn((1, n_output))"
   ]
  },
  {
   "cell_type": "code",
   "execution_count": 17,
   "metadata": {},
   "outputs": [
    {
     "name": "stdout",
     "output_type": "stream",
     "text": [
      "tensor([[ 9.9536e-01,  1.5459e-05,  6.1127e-09,  7.0394e-10,  1.0000e+00,\n",
      "          9.9979e-01,  3.0694e-02,  3.9003e-01,  9.7462e-01,  3.5991e-04],\n",
      "        [ 9.9999e-01,  3.3117e-04,  7.7155e-06,  2.3452e-05,  9.9998e-01,\n",
      "          9.7989e-01,  9.9923e-01,  9.9037e-02,  1.6714e-02,  9.0073e-02],\n",
      "        [ 9.9861e-01,  1.2182e-04,  8.1307e-09,  7.3781e-07,  1.0000e+00,\n",
      "          9.9884e-01,  9.9980e-01,  1.5195e-04,  7.5434e-01,  2.5617e-03],\n",
      "        [ 9.7884e-01,  2.9008e-08,  1.3827e-11,  8.0339e-13,  9.9992e-01,\n",
      "          9.0359e-01,  7.2187e-01,  4.7326e-04,  1.3227e-01,  9.8756e-01],\n",
      "        [ 1.0000e+00,  1.4508e-08,  2.8906e-08,  6.7801e-11,  9.9924e-01,\n",
      "          5.1687e-03,  9.9930e-01,  4.0162e-04,  1.6525e-01,  7.5364e-01],\n",
      "        [ 9.6001e-01,  5.9781e-04,  7.7385e-11,  8.6007e-02,  1.0000e+00,\n",
      "          9.9977e-01,  9.9672e-01,  9.3178e-06,  3.4088e-05,  8.1826e-01],\n",
      "        [ 9.9353e-01,  4.0616e-06,  8.7161e-13,  1.3289e-09,  1.0000e+00,\n",
      "          9.9360e-01,  1.0000e+00,  3.7779e-04,  7.9621e-01,  4.6031e-02],\n",
      "        [ 1.0000e+00,  2.2537e-05,  2.6674e-09,  4.5599e-10,  1.0000e+00,\n",
      "          9.9781e-01,  3.3328e-02,  2.6428e-06,  9.8039e-01,  1.6168e-01],\n",
      "        [ 8.5547e-01,  8.8765e-04,  1.4935e-09,  8.4197e-06,  9.8610e-01,\n",
      "          9.9995e-01,  1.0000e+00,  6.8324e-04,  8.1508e-03,  5.4868e-01],\n",
      "        [ 9.6604e-01,  5.6500e-05,  7.1509e-12,  1.3443e-08,  1.0000e+00,\n",
      "          9.9949e-01,  9.9003e-01,  2.3660e-06,  9.9509e-01,  1.3609e-01],\n",
      "        [ 9.7915e-01,  1.5699e-06,  1.0232e-07,  1.4134e-03,  1.0000e+00,\n",
      "          9.9988e-01,  6.3737e-01,  5.6738e-05,  5.0963e-04,  9.9954e-01],\n",
      "        [ 9.9973e-01,  5.8153e-03,  4.0742e-09,  4.7133e-09,  9.9993e-01,\n",
      "          9.8763e-01,  9.3844e-01,  1.2404e-01,  6.8623e-01,  7.6188e-02],\n",
      "        [ 1.0000e+00,  5.9860e-06,  3.2500e-06,  2.6251e-10,  9.9999e-01,\n",
      "          9.9986e-01,  9.9975e-01,  1.8271e-01,  9.1439e-01,  9.9800e-01],\n",
      "        [ 9.9885e-01,  1.4944e-06,  1.2123e-08,  1.7551e-08,  9.9996e-01,\n",
      "          9.9994e-01,  8.8589e-01,  4.5410e-01,  8.3983e-01,  8.9409e-01],\n",
      "        [ 3.5080e-01,  1.7019e-05,  1.9930e-08,  9.3022e-10,  9.8808e-01,\n",
      "          9.9999e-01,  9.9999e-01,  5.7893e-02,  8.0870e-03,  7.3029e-01],\n",
      "        [ 1.0000e+00,  2.0551e-04,  4.1931e-10,  8.0892e-09,  1.0000e+00,\n",
      "          9.9996e-01,  9.9994e-01,  5.5939e-02,  6.1325e-01,  3.4529e-08],\n",
      "        [ 9.8731e-01,  9.6100e-03,  7.8852e-08,  1.7808e-07,  1.0000e+00,\n",
      "          9.9854e-01,  3.1401e-05,  3.0547e-01,  6.5420e-01,  2.0786e-01],\n",
      "        [ 9.9981e-01,  3.9470e-05,  4.2958e-07,  3.3216e-08,  1.0000e+00,\n",
      "          1.5562e-01,  1.7122e-01,  3.9252e-01,  6.0406e-02,  9.3464e-01],\n",
      "        [ 9.8858e-01,  3.6018e-05,  9.0954e-08,  1.3663e-09,  1.0000e+00,\n",
      "          1.0000e+00,  9.9990e-01,  1.2934e-01,  8.3619e-04,  9.9954e-06],\n",
      "        [ 9.9847e-01,  3.0347e-04,  1.1911e-05,  2.9297e-08,  1.0000e+00,\n",
      "          9.9632e-01,  4.9534e-01,  1.5159e-04,  9.8307e-01,  5.0565e-04],\n",
      "        [ 9.9373e-01,  2.0986e-06,  6.4838e-07,  2.0049e-10,  1.0000e+00,\n",
      "          1.0000e+00,  7.8534e-01,  3.8857e-01,  8.3753e-01,  2.0378e-02],\n",
      "        [ 9.6160e-01,  1.5787e-05,  3.4832e-12,  2.2791e-09,  9.9997e-01,\n",
      "          1.0000e+00,  6.4438e-01,  2.9485e-03,  3.1220e-03,  9.8821e-01],\n",
      "        [ 1.0000e+00,  1.7573e-01,  1.2183e-05,  2.2057e-06,  1.0000e+00,\n",
      "          9.9950e-01,  9.9822e-01,  5.0840e-01,  5.5621e-01,  9.8726e-01],\n",
      "        [ 2.1867e-04,  9.3427e-01,  6.1816e-09,  5.0937e-06,  9.9999e-01,\n",
      "          9.9989e-01,  4.5032e-01,  3.1011e-05,  5.6375e-03,  3.3847e-01],\n",
      "        [ 9.9992e-01,  7.7474e-04,  5.0848e-09,  2.4530e-08,  1.0000e+00,\n",
      "          7.5924e-01,  9.3578e-01,  7.9003e-02,  1.0812e-02,  8.3463e-03],\n",
      "        [ 8.9865e-01,  1.6071e-02,  4.9999e-07,  1.1774e-05,  1.0000e+00,\n",
      "          9.9372e-01,  6.1538e-01,  1.9708e-07,  4.7357e-07,  1.1571e-02],\n",
      "        [ 1.0000e+00,  2.7008e-06,  3.4316e-08,  2.1730e-10,  9.9995e-01,\n",
      "          9.9993e-01,  2.0788e-02,  6.9339e-02,  2.7762e-01,  9.9947e-01],\n",
      "        [ 1.0000e+00,  7.6418e-08,  2.3730e-11,  1.2602e-09,  2.5617e-01,\n",
      "          1.0000e+00,  8.9483e-01,  1.4717e-07,  3.1649e-01,  7.5669e-01],\n",
      "        [ 5.2920e-01,  1.0433e-07,  6.8110e-06,  6.6044e-09,  9.9988e-01,\n",
      "          9.9978e-01,  1.0000e+00,  2.6683e-03,  4.9063e-02,  2.3883e-01],\n",
      "        [ 9.7656e-01,  1.8582e-05,  7.5185e-09,  1.8293e-08,  9.9999e-01,\n",
      "          9.7873e-01,  9.9802e-01,  3.8952e-04,  9.9678e-01,  3.1235e-03],\n",
      "        [ 4.7291e-03,  1.8540e-03,  4.5648e-11,  1.7583e-07,  9.9999e-01,\n",
      "          9.7879e-01,  3.5714e-01,  8.6149e-07,  5.1953e-03,  5.5248e-02],\n",
      "        [ 9.9988e-01,  1.5000e-03,  9.1230e-08,  4.2744e-08,  1.0000e+00,\n",
      "          9.5567e-01,  9.9952e-01,  2.8398e-01,  3.7643e-02,  2.0628e-01],\n",
      "        [ 1.0000e+00,  4.8244e-07,  7.2235e-10,  1.1847e-06,  9.4399e-01,\n",
      "          1.0000e+00,  9.9998e-01,  4.7376e-04,  6.7156e-04,  9.5860e-01],\n",
      "        [ 8.1679e-01,  2.6981e-05,  1.1409e-09,  3.6837e-09,  9.9960e-01,\n",
      "          1.0000e+00,  1.0000e+00,  7.0543e-04,  2.4257e-10,  8.5914e-01],\n",
      "        [ 9.8580e-01,  6.6019e-06,  2.5686e-07,  1.3321e-05,  1.0000e+00,\n",
      "          9.5632e-01,  8.8581e-01,  5.3644e-06,  4.4278e-02,  3.6394e-03],\n",
      "        [ 9.9989e-01,  3.2240e-01,  3.7360e-07,  1.2583e-10,  9.9999e-01,\n",
      "          2.4112e-01,  8.7189e-01,  8.8835e-09,  9.9999e-01,  4.5302e-01],\n",
      "        [ 1.0000e+00,  7.7590e-04,  5.6310e-07,  3.5292e-07,  1.0000e+00,\n",
      "          9.9970e-01,  8.3735e-04,  4.8894e-03,  8.7467e-01,  3.3840e-04],\n",
      "        [ 9.9998e-01,  1.6663e-08,  1.6890e-07,  4.7892e-10,  1.0000e+00,\n",
      "          9.9724e-01,  5.2569e-01,  1.8815e-02,  9.5498e-02,  9.8689e-01],\n",
      "        [ 9.9659e-01,  2.1322e-07,  1.0217e-06,  3.1622e-07,  9.9997e-01,\n",
      "          9.8655e-01,  8.4446e-01,  7.9168e-01,  8.2064e-01,  7.7978e-01],\n",
      "        [ 1.0000e+00,  4.6564e-06,  1.0861e-09,  2.5317e-11,  1.0000e+00,\n",
      "          9.9998e-01,  2.0151e-04,  9.9349e-01,  4.1305e-03,  6.0323e-05],\n",
      "        [ 1.0000e+00,  7.6744e-05,  2.5766e-05,  1.4657e-12,  1.0000e+00,\n",
      "          8.7089e-01,  2.9556e-05,  4.1827e-03,  4.3444e-06,  3.6850e-01],\n",
      "        [ 9.8268e-01,  2.0859e-06,  2.7136e-09,  4.4820e-09,  9.9928e-01,\n",
      "          1.0000e+00,  1.0000e+00,  2.7396e-06,  4.2293e-06,  9.5479e-01],\n",
      "        [ 5.4790e-01,  3.4506e-05,  3.1870e-10,  9.2619e-10,  9.9999e-01,\n",
      "          1.0000e+00,  9.7911e-01,  1.7243e-04,  7.1185e-01,  9.9237e-01],\n",
      "        [ 1.0000e+00,  4.4869e-05,  1.9964e-11,  4.4348e-07,  1.0000e+00,\n",
      "          9.9994e-01,  8.4933e-01,  1.3353e-04,  9.8682e-01,  4.1450e-01],\n",
      "        [ 9.9998e-01,  1.2639e-07,  2.0686e-08,  1.3850e-06,  1.0000e+00,\n",
      "          9.9909e-01,  2.9296e-02,  3.7182e-04,  8.1202e-01,  9.9998e-01],\n",
      "        [ 9.6850e-01,  8.0177e-05,  5.3523e-11,  4.6684e-09,  9.7683e-01,\n",
      "          3.8353e-01,  9.9998e-01,  1.8672e-03,  9.9994e-01,  9.9995e-01],\n",
      "        [ 9.8390e-01,  7.5494e-02,  5.9398e-06,  1.5506e-06,  1.0000e+00,\n",
      "          9.2886e-01,  7.2071e-01,  7.8105e-01,  4.3540e-04,  8.9960e-01],\n",
      "        [ 1.0000e+00,  9.6825e-06,  5.5953e-07,  1.5229e-09,  9.9965e-01,\n",
      "          9.9996e-01,  9.3667e-01,  1.9366e-08,  2.0633e-01,  1.7304e-01],\n",
      "        [ 9.9918e-01,  4.0639e-04,  1.9622e-13,  8.1763e-11,  9.9970e-01,\n",
      "          9.6648e-01,  9.9968e-01,  9.7974e-03,  6.9787e-01,  9.6109e-01],\n",
      "        [ 1.9764e-06,  1.0493e-05,  2.7121e-10,  2.2991e-07,  9.9971e-01,\n",
      "          1.0000e+00,  1.0000e+00,  5.0624e-05,  4.5316e-05,  1.6412e-01],\n",
      "        [ 1.0000e+00,  4.7153e-05,  2.4443e-12,  3.1259e-06,  9.9850e-01,\n",
      "          9.9985e-01,  9.9998e-01,  1.6213e-05,  9.7383e-02,  7.8285e-01],\n",
      "        [ 2.4170e-01,  5.8571e-08,  7.2508e-09,  1.1415e-06,  1.0000e+00,\n",
      "          9.9874e-01,  3.2147e-01,  9.8440e-01,  9.9042e-01,  2.2007e-03],\n",
      "        [ 9.9833e-01,  1.2357e-08,  4.3803e-11,  3.2393e-13,  1.0000e+00,\n",
      "          9.5067e-01,  9.9444e-01,  2.3103e-06,  2.1013e-01,  9.9897e-01],\n",
      "        [ 8.9725e-01,  2.7205e-03,  6.1475e-10,  6.2859e-08,  9.9943e-01,\n",
      "          1.0000e+00,  1.0000e+00,  3.5451e-05,  8.7616e-07,  9.9806e-01],\n",
      "        [ 9.9914e-01,  4.0431e-07,  1.4358e-07,  4.3385e-09,  9.6881e-01,\n",
      "          1.0000e+00,  9.6726e-01,  3.9775e-03,  4.7840e-01,  3.2892e-02],\n",
      "        [ 3.2133e-01,  1.8866e-03,  8.4614e-08,  2.1096e-11,  9.9986e-01,\n",
      "          9.9986e-01,  1.0000e+00,  1.1388e-01,  9.6913e-01,  4.3614e-01],\n",
      "        [ 9.9935e-01,  1.8180e-05,  3.1615e-07,  5.1401e-07,  1.0000e+00,\n",
      "          4.0590e-03,  9.0658e-02,  3.9138e-02,  9.5948e-04,  7.9372e-01],\n",
      "        [ 9.8146e-01,  4.9780e-06,  8.7997e-06,  9.3409e-07,  9.9935e-01,\n",
      "          9.9617e-01,  9.8181e-01,  9.0743e-02,  6.4415e-01,  5.4335e-02],\n",
      "        [ 1.0763e-01,  1.2414e-04,  4.4124e-11,  4.7524e-08,  9.9999e-01,\n",
      "          9.9994e-01,  9.9962e-01,  1.0013e-01,  7.8335e-02,  8.8777e-01],\n",
      "        [ 9.8652e-01,  6.0175e-01,  3.5298e-06,  8.3150e-05,  1.0000e+00,\n",
      "          8.9407e-01,  2.3425e-01,  7.0764e-04,  7.9323e-01,  3.9045e-02],\n",
      "        [ 6.7897e-01,  2.1796e-07,  3.1428e-07,  2.4364e-11,  9.9992e-01,\n",
      "          9.9054e-01,  9.9683e-01,  1.4583e-01,  3.0817e-03,  6.0284e-05],\n",
      "        [ 9.9968e-01,  8.9708e-05,  9.4260e-10,  1.8399e-10,  1.0000e+00,\n",
      "          1.0000e+00,  9.9997e-01,  3.2109e-01,  2.9972e-01,  9.6737e-01],\n",
      "        [ 9.4445e-01,  9.4331e-06,  2.2977e-06,  1.1216e-03,  1.0000e+00,\n",
      "          9.4142e-01,  9.6290e-01,  6.2047e-02,  8.7502e-01,  2.0193e-03],\n",
      "        [ 9.9994e-01,  1.5528e-05,  8.6762e-07,  4.2779e-12,  1.0000e+00,\n",
      "          9.9964e-01,  8.5178e-04,  5.1869e-07,  5.4305e-01,  6.7679e-01]])\n"
     ]
    }
   ],
   "source": [
    "h = activation(torch.mm(features, W1) + B1)\n",
    "output = activation(torch.mm(h, W2) + B2)\n",
    "print(output)"
   ]
  },
  {
   "cell_type": "markdown",
   "metadata": {},
   "source": [
    "Now we have 10 outputs for our network. We want to pass in an image to our network and get out a probability distribution over the classes that tells us the likely class(es) the image belongs to. Something that looks like this:\n",
    "<img src='assets/image_distribution.png' width=500px>\n",
    "\n",
    "Here we see that the probability for each class is roughly the same. This is representing an untrained network, it hasn't seen any data yet so it just returns a uniform distribution with equal probabilities for each class.\n",
    "\n",
    "To calculate this probability distribution, we often use the [**softmax** function](https://en.wikipedia.org/wiki/Softmax_function). Mathematically this looks like\n",
    "\n",
    "$$\n",
    "\\Large \\sigma(x_i) = \\cfrac{e^{x_i}}{\\sum_k^K{e^{x_k}}}\n",
    "$$\n",
    "\n",
    "What this does is squish each input $x_i$ between 0 and 1 and normalizes the values to give you a proper probability distribution where the probabilites sum up to one.\n",
    "\n",
    "> **Exercise:** Implement a function `softmax` that performs the softmax calculation and returns probability distributions for each example in the batch. Note that you'll need to pay attention to the shapes when doing this. If you have a tensor `a` with shape `(64, 10)` and a tensor `b` with shape `(64,)`, doing `a/b` will give you an error because PyTorch will try to do the division across the columns (called broadcasting) but you'll get a size mismatch. The way to think about this is for each of the 64 examples, you only want to divide by one value, the sum in the denominator. So you need `b` to have a shape of `(64, 1)`. This way PyTorch will divide the 10 values in each row of `a` by the one value in each row of `b`. Pay attention to how you take the sum as well. You'll need to define the `dim` keyword in `torch.sum`. Setting `dim=0` takes the sum across the rows while `dim=1` takes the sum across the columns."
   ]
  },
  {
   "cell_type": "code",
   "execution_count": 18,
   "metadata": {},
   "outputs": [
    {
     "name": "stdout",
     "output_type": "stream",
     "text": [
      "torch.Size([64, 10])\n",
      "tensor([ 1.0000,  1.0000,  1.0000,  1.0000,  1.0000,  1.0000,  1.0000,\n",
      "         1.0000,  1.0000,  1.0000,  1.0000,  1.0000,  1.0000,  1.0000,\n",
      "         1.0000,  1.0000,  1.0000,  1.0000,  1.0000,  1.0000,  1.0000,\n",
      "         1.0000,  1.0000,  1.0000,  1.0000,  1.0000,  1.0000,  1.0000,\n",
      "         1.0000,  1.0000,  1.0000,  1.0000,  1.0000,  1.0000,  1.0000,\n",
      "         1.0000,  1.0000,  1.0000,  1.0000,  1.0000,  1.0000,  1.0000,\n",
      "         1.0000,  1.0000,  1.0000,  1.0000,  1.0000,  1.0000,  1.0000,\n",
      "         1.0000,  1.0000,  1.0000,  1.0000,  1.0000,  1.0000,  1.0000,\n",
      "         1.0000,  1.0000,  1.0000,  1.0000,  1.0000,  1.0000,  1.0000,\n",
      "         1.0000])\n"
     ]
    }
   ],
   "source": [
    "def softmax(x):\n",
    "    ## TODO: Implement the softmax function here\n",
    "    return torch.exp(x) / torch.sum(torch.exp(x), dim=1).view(-1,1)\n",
    "# If there is any situation that you don't know how many rows you want,\n",
    "# but are sure of the number of columns, then you can specify this with a -1.\n",
    "\n",
    "# Here, out should be the output of the network in the previous excercise with shape (64,10)\n",
    "probabilities = softmax(output)\n",
    "\n",
    "# Does it have the right shape? Should be (64, 10)\n",
    "print(probabilities.shape)\n",
    "# Does it sum to 1?\n",
    "print(probabilities.sum(dim=1))"
   ]
  },
  {
   "cell_type": "markdown",
   "metadata": {},
   "source": [
    "## Building networks with PyTorch\n",
    "\n",
    "PyTorch provides a module `nn` that makes building networks much simpler. Here I'll show you how to build the same one as above with 784 inputs, 256 hidden units, 10 output units and a softmax output."
   ]
  },
  {
   "cell_type": "code",
   "execution_count": 20,
   "metadata": {},
   "outputs": [],
   "source": [
    "from torch import nn"
   ]
  },
  {
   "cell_type": "code",
   "execution_count": 21,
   "metadata": {},
   "outputs": [],
   "source": [
    "class Network(nn.Module):\n",
    "    def __init__(self):\n",
    "        super().__init__()\n",
    "        \n",
    "        # Inputs to hidden layer linear transformation\n",
    "        self.hidden = nn.Linear(784, 256)\n",
    "        # Output layer, 10 units - one for each digit\n",
    "        self.output = nn.Linear(256, 10)\n",
    "        \n",
    "        # Define sigmoid activation and softmax output \n",
    "        self.sigmoid = nn.Sigmoid()\n",
    "        self.softmax = nn.Softmax(dim=1)\n",
    "        \n",
    "    def forward(self, x):\n",
    "        # Pass the input tensor through each of our operations\n",
    "        x = self.hidden(x)\n",
    "        x = self.sigmoid(x)\n",
    "        x = self.output(x)\n",
    "        x = self.softmax(x)\n",
    "        \n",
    "        return x"
   ]
  },
  {
   "cell_type": "markdown",
   "metadata": {},
   "source": [
    "Let's go through this bit by bit.\n",
    "\n",
    "```python\n",
    "class Network(nn.Module):\n",
    "```\n",
    "\n",
    "Here we're inheriting from `nn.Module`. Combined with `super().__init__()` this creates a class that tracks the architecture and provides a lot of useful methods and attributes. It is mandatory to inherit from `nn.Module` when you're creating a class for your network. The name of the class itself can be anything.\n",
    "\n",
    "```python\n",
    "self.hidden = nn.Linear(784, 256)\n",
    "```\n",
    "\n",
    "This line creates a module for a linear transformation, $x\\mathbf{W} + b$, with 784 inputs and 256 outputs and assigns it to `self.hidden`. The module automatically creates the weight and bias tensors which we'll use in the `forward` method. You can access the weight and bias tensors once the network (`net`) is created with `net.hidden.weight` and `net.hidden.bias`.\n",
    "\n",
    "```python\n",
    "self.output = nn.Linear(256, 10)\n",
    "```\n",
    "\n",
    "Similarly, this creates another linear transformation with 256 inputs and 10 outputs.\n",
    "\n",
    "```python\n",
    "self.sigmoid = nn.Sigmoid()\n",
    "self.softmax = nn.Softmax(dim=1)\n",
    "```\n",
    "\n",
    "Here I defined operations for the sigmoid activation and softmax output. Setting `dim=1` in `nn.Softmax(dim=1)` calculates softmax across the columns.\n",
    "\n",
    "```python\n",
    "def forward(self, x):\n",
    "```\n",
    "\n",
    "PyTorch networks created with `nn.Module` must have a `forward` method defined. It takes in a tensor `x` and passes it through the operations you defined in the `__init__` method.\n",
    "\n",
    "```python\n",
    "x = self.hidden(x)\n",
    "x = self.sigmoid(x)\n",
    "x = self.output(x)\n",
    "x = self.softmax(x)\n",
    "```\n",
    "\n",
    "Here the input tensor `x` is passed through each operation a reassigned to `x`. We can see that the input tensor goes through the hidden layer, then a sigmoid function, then the output layer, and finally the softmax function. It doesn't matter what you name the variables here, as long as the inputs and outputs of the operations match the network architecture you want to build. The order in which you define things in the `__init__` method doesn't matter, but you'll need to sequence the operations correctly in the `forward` method.\n",
    "\n",
    "Now we can create a `Network` object."
   ]
  },
  {
   "cell_type": "code",
   "execution_count": 23,
   "metadata": {},
   "outputs": [
    {
     "data": {
      "text/plain": [
       "Network(\n",
       "  (hidden): Linear(in_features=784, out_features=256, bias=True)\n",
       "  (output): Linear(in_features=256, out_features=10, bias=True)\n",
       "  (sigmoid): Sigmoid()\n",
       "  (softmax): Softmax()\n",
       ")"
      ]
     },
     "execution_count": 23,
     "metadata": {},
     "output_type": "execute_result"
    }
   ],
   "source": [
    "# Create the network and look at it's text representation\n",
    "model = Network()\n",
    "model"
   ]
  },
  {
   "cell_type": "markdown",
   "metadata": {},
   "source": [
    "You can define the network somewhat more concisely and clearly using the `torch.nn.functional` module. This is the most common way you'll see networks defined as many operations are simple element-wise functions. We normally import this module as `F`, `import torch.nn.functional as F`."
   ]
  },
  {
   "cell_type": "code",
   "execution_count": null,
   "metadata": {
    "collapsed": true
   },
   "outputs": [],
   "source": [
    "import torch.nn.functional as F\n",
    "\n",
    "class Network(nn.Module):\n",
    "    def __init__(self):\n",
    "        super().__init__()\n",
    "        # Inputs to hidden layer linear transformation\n",
    "        self.hidden = nn.Linear(784, 256)\n",
    "        # Output layer, 10 units - one for each digit\n",
    "        self.output = nn.Linear(256, 10)\n",
    "        \n",
    "    def forward(self, x):\n",
    "        # Hidden layer with sigmoid activation\n",
    "        x = F.sigmoid(self.hidden(x))\n",
    "        # Output layer with softmax activation\n",
    "        x = F.softmax(self.output(x), dim=1)\n",
    "        \n",
    "        return x"
   ]
  },
  {
   "cell_type": "markdown",
   "metadata": {},
   "source": [
    "### Activation functions\n",
    "\n",
    "So far we've only been looking at the softmax activation, but in general any function can be used as an activation function. The only requirement is that for a network to approximate a non-linear function, the activation functions must be non-linear. Here are a few more examples of common activation functions: Tanh (hyperbolic tangent), and ReLU (rectified linear unit).\n",
    "\n",
    "<img src=\"assets/activation.png\" width=700px>\n",
    "\n",
    "In practice, the ReLU function is used almost exclusively as the activation function for hidden layers."
   ]
  },
  {
   "cell_type": "markdown",
   "metadata": {},
   "source": [
    "### Your Turn to Build a Network\n",
    "\n",
    "<img src=\"assets/mlp_mnist.png\" width=600px>\n",
    "\n",
    "> **Exercise:** Create a network with 784 input units, a hidden layer with 128 units and a ReLU activation, then a hidden layer with 64 units and a ReLU activation, and finally an output layer with a softmax activation as shown above. You can use a ReLU activation with the `nn.ReLU` module or `F.relu` function."
   ]
  },
  {
   "cell_type": "code",
   "execution_count": 31,
   "metadata": {
    "scrolled": true
   },
   "outputs": [
    {
     "data": {
      "text/plain": [
       "Network(\n",
       "  (hidden1): Linear(in_features=784, out_features=128, bias=True)\n",
       "  (hidden2): Linear(in_features=128, out_features=64, bias=True)\n",
       "  (output): Linear(in_features=64, out_features=10, bias=True)\n",
       ")"
      ]
     },
     "execution_count": 31,
     "metadata": {},
     "output_type": "execute_result"
    }
   ],
   "source": [
    "## Your solution here\n",
    "import torch.nn.functional as F\n",
    "\n",
    "class Network(nn.Module):\n",
    "    def __init__(self):\n",
    "        super().__init__()\n",
    "        self.hidden1 = nn.Linear(784, 128)\n",
    "        self.hidden2 = nn.Linear(128, 64)\n",
    "        self.output = nn.Linear(64, 10)\n",
    "        \n",
    "    def forward(self, x):\n",
    "        x = F.relu(self.hidden1(x))\n",
    "        x = F.relu(self.hidden2(x))\n",
    "        x = F.softmax(self.output(x), dim=1)\n",
    "        \n",
    "        return x\n",
    "    \n",
    "model = Network()\n",
    "model"
   ]
  },
  {
   "cell_type": "markdown",
   "metadata": {},
   "source": [
    "### Initializing weights and biases\n",
    "\n",
    "The weights and such are automatically initialized for you, but it's possible to customize how they are initialized. The weights and biases are tensors attached to the layer you defined, you can get them with `model.fc1.weight` for instance."
   ]
  },
  {
   "cell_type": "code",
   "execution_count": 32,
   "metadata": {},
   "outputs": [
    {
     "name": "stdout",
     "output_type": "stream",
     "text": [
      "Parameter containing:\n",
      "tensor([[ 1.3199e-02,  3.0107e-02, -3.2146e-02,  ...,  6.5786e-03,\n",
      "         -5.8344e-03,  2.6825e-03],\n",
      "        [-1.3487e-02,  2.4345e-02,  3.4059e-02,  ...,  2.5054e-02,\n",
      "          2.3701e-02,  2.1157e-02],\n",
      "        [-2.7278e-03, -2.2329e-02,  1.1179e-02,  ...,  2.4459e-02,\n",
      "         -2.3365e-02,  2.0236e-02],\n",
      "        ...,\n",
      "        [-5.0767e-03, -6.3221e-03,  2.1744e-02,  ..., -1.6011e-02,\n",
      "         -3.1111e-02,  3.4610e-02],\n",
      "        [ 9.5300e-03, -7.4733e-03, -3.4694e-02,  ..., -2.4164e-02,\n",
      "         -2.4700e-02,  2.2317e-02],\n",
      "        [ 4.4348e-03, -1.9777e-02,  2.6001e-02,  ...,  5.1197e-03,\n",
      "         -2.2201e-02,  1.4457e-02]])\n",
      "Parameter containing:\n",
      "tensor(1.00000e-02 *\n",
      "       [ 3.3082,  1.9409,  1.7065,  0.4539, -2.6300,  0.6241,  2.5363,\n",
      "         3.5258, -2.5534,  0.8147,  3.3765,  3.3598,  1.3352, -2.0954,\n",
      "        -1.5182, -1.7519, -1.7815, -2.4588, -1.2626,  1.2912,  2.1274,\n",
      "        -1.3111, -3.3088, -2.3064, -3.5200, -0.2758, -2.3655,  2.0011,\n",
      "        -2.1787,  2.4715, -3.2982, -3.4187,  0.5117, -0.1915,  2.1071,\n",
      "         2.6959,  3.4059, -3.4184, -0.9866, -3.1930,  2.2589,  1.4930,\n",
      "         3.2979,  2.5532,  0.8200, -0.3272, -2.4103, -1.5480,  0.2291,\n",
      "        -2.7965, -3.1306,  2.2937,  0.1298,  3.1945, -1.3040, -1.0811,\n",
      "         2.4454, -2.5714, -2.4743,  1.2823,  0.2671,  3.0624,  2.2882,\n",
      "         0.9870,  0.1398,  1.8548, -2.1345,  2.9363,  3.1237, -2.9777,\n",
      "        -1.6853,  0.7677, -2.5895, -1.9028,  1.9809, -0.2858,  3.5671,\n",
      "         2.4685,  0.7222,  0.8585, -0.8754, -0.3241,  1.2029, -3.4466,\n",
      "         1.2525, -0.3653,  0.3349,  2.8329,  1.7948,  3.1353,  2.2724,\n",
      "        -3.1193,  1.7164, -2.9868, -0.9379,  0.5843,  0.0452, -3.3217,\n",
      "        -0.0197, -2.6259,  0.6058,  2.8645,  2.4735, -3.2552,  1.4786,\n",
      "         2.3068, -0.3925, -0.9267,  1.9520, -3.4896,  1.7360,  2.7393,\n",
      "         2.9896, -3.2778, -2.1079,  2.8029, -1.6181,  0.0290, -0.5642,\n",
      "         2.4869, -3.5223, -1.5106, -0.8448, -0.5278, -0.1348,  1.8260,\n",
      "         2.5633,  1.9965])\n"
     ]
    }
   ],
   "source": [
    "print(model.hidden1.weight)\n",
    "print(model.hidden1.bias)"
   ]
  },
  {
   "cell_type": "markdown",
   "metadata": {},
   "source": [
    "For custom initialization, we want to modify these tensors in place. These are actually autograd *Variables*, so we need to get back the actual tensors with `model.fc1.weight.data`. Once we have the tensors, we can fill them with zeros (for biases) or random normal values."
   ]
  },
  {
   "cell_type": "code",
   "execution_count": 33,
   "metadata": {},
   "outputs": [
    {
     "data": {
      "text/plain": [
       "tensor([ 0.,  0.,  0.,  0.,  0.,  0.,  0.,  0.,  0.,  0.,  0.,  0.,\n",
       "         0.,  0.,  0.,  0.,  0.,  0.,  0.,  0.,  0.,  0.,  0.,  0.,\n",
       "         0.,  0.,  0.,  0.,  0.,  0.,  0.,  0.,  0.,  0.,  0.,  0.,\n",
       "         0.,  0.,  0.,  0.,  0.,  0.,  0.,  0.,  0.,  0.,  0.,  0.,\n",
       "         0.,  0.,  0.,  0.,  0.,  0.,  0.,  0.,  0.,  0.,  0.,  0.,\n",
       "         0.,  0.,  0.,  0.,  0.,  0.,  0.,  0.,  0.,  0.,  0.,  0.,\n",
       "         0.,  0.,  0.,  0.,  0.,  0.,  0.,  0.,  0.,  0.,  0.,  0.,\n",
       "         0.,  0.,  0.,  0.,  0.,  0.,  0.,  0.,  0.,  0.,  0.,  0.,\n",
       "         0.,  0.,  0.,  0.,  0.,  0.,  0.,  0.,  0.,  0.,  0.,  0.,\n",
       "         0.,  0.,  0.,  0.,  0.,  0.,  0.,  0.,  0.,  0.,  0.,  0.,\n",
       "         0.,  0.,  0.,  0.,  0.,  0.,  0.,  0.])"
      ]
     },
     "execution_count": 33,
     "metadata": {},
     "output_type": "execute_result"
    }
   ],
   "source": [
    "# Set biases to all zeros\n",
    "model.hidden1.bias.data.fill_(0)"
   ]
  },
  {
   "cell_type": "code",
   "execution_count": 34,
   "metadata": {},
   "outputs": [
    {
     "data": {
      "text/plain": [
       "tensor([[-2.8312e-03, -7.3646e-03,  1.6567e-03,  ..., -2.8821e-03,\n",
       "          1.0583e-02,  8.4803e-03],\n",
       "        [ 1.8643e-02, -4.3949e-03,  2.2879e-03,  ...,  1.4477e-03,\n",
       "          5.8563e-03, -2.4019e-03],\n",
       "        [-1.4707e-02,  2.0022e-02, -1.2401e-03,  ...,  1.2565e-02,\n",
       "          1.2400e-02, -1.5744e-02],\n",
       "        ...,\n",
       "        [ 8.3937e-05,  9.6555e-03,  3.6843e-03,  ...,  1.7042e-03,\n",
       "          5.1809e-03,  4.6916e-03],\n",
       "        [ 4.0504e-03, -4.0712e-03,  6.6612e-03,  ...,  1.5583e-02,\n",
       "          1.6805e-02,  1.0213e-02],\n",
       "        [-5.6268e-03,  3.6421e-03, -1.2019e-03,  ..., -2.5391e-03,\n",
       "          7.2208e-03, -6.5051e-03]])"
      ]
     },
     "execution_count": 34,
     "metadata": {},
     "output_type": "execute_result"
    }
   ],
   "source": [
    "# sample from random normal with standard dev = 0.01\n",
    "model.hidden1.weight.data.normal_(std=0.01)"
   ]
  },
  {
   "cell_type": "markdown",
   "metadata": {},
   "source": [
    "### Forward pass\n",
    "\n",
    "Now that we have a network, let's see what happens when we pass in an image."
   ]
  },
  {
   "cell_type": "code",
   "execution_count": 35,
   "metadata": {},
   "outputs": [
    {
     "data": {
      "image/png": "[encoded data removed]",
      "text/plain": [
       "<matplotlib.figure.Figure at 0x7fe0693eef28>"
      ]
     },
     "metadata": {
      "image/png": {
       "height": 224,
       "width": 423
      },
      "needs_background": "light"
     },
     "output_type": "display_data"
    }
   ],
   "source": [
    "# Grab some data \n",
    "dataiter = iter(trainloader)\n",
    "images, labels = dataiter.next()\n",
    "\n",
    "# Resize images into a 1D vector, new shape is (batch size, color channels, image pixels) \n",
    "images.resize_(64, 1, 784)\n",
    "# or images.resize_(images.shape[0], 1, 784) to automatically get batch size\n",
    "\n",
    "# Forward pass through the network\n",
    "img_idx = 0\n",
    "ps = model.forward(images[img_idx,:])\n",
    "\n",
    "img = images[img_idx]\n",
    "helper.view_classify(img.view(1, 28, 28), ps)"
   ]
  },
  {
   "cell_type": "markdown",
   "metadata": {},
   "source": [
    "As you can see above, our network has basically no idea what this digit is. It's because we haven't trained it yet, all the weights are random!\n",
    "\n",
    "### Using `nn.Sequential`\n",
    "\n",
    "PyTorch provides a convenient way to build networks like this where a tensor is passed sequentially through operations, `nn.Sequential` ([documentation](https://pytorch.org/docs/master/nn.html#torch.nn.Sequential)). Using this to build the equivalent network:"
   ]
  },
  {
   "cell_type": "code",
   "execution_count": 36,
   "metadata": {},
   "outputs": [
    {
     "name": "stdout",
     "output_type": "stream",
     "text": [
      "Sequential(\n",
      "  (0): Linear(in_features=784, out_features=128, bias=True)\n",
      "  (1): ReLU()\n",
      "  (2): Linear(in_features=128, out_features=64, bias=True)\n",
      "  (3): ReLU()\n",
      "  (4): Linear(in_features=64, out_features=10, bias=True)\n",
      "  (5): Softmax()\n",
      ")\n"
     ]
    },
    {
     "data": {
      "image/png": "[encoded data removed]",
      "text/plain": [
       "<matplotlib.figure.Figure at 0x7fe00c2fe320>"
      ]
     },
     "metadata": {
      "image/png": {
       "height": 224,
       "width": 423
      },
      "needs_background": "light"
     },
     "output_type": "display_data"
    }
   ],
   "source": [
    "# Hyperparameters for our network\n",
    "input_size = 784\n",
    "hidden_sizes = [128, 64]\n",
    "output_size = 10\n",
    "\n",
    "# Build a feed-forward network\n",
    "model = nn.Sequential(nn.Linear(input_size, hidden_sizes[0]),\n",
    "                      nn.ReLU(),\n",
    "                      nn.Linear(hidden_sizes[0], hidden_sizes[1]),\n",
    "                      nn.ReLU(),\n",
    "                      nn.Linear(hidden_sizes[1], output_size),\n",
    "                      nn.Softmax(dim=1))\n",
    "print(model)\n",
    "\n",
    "# Forward pass through the network and display output\n",
    "images, labels = next(iter(trainloader))\n",
    "images.resize_(images.shape[0], 1, 784)\n",
    "ps = model.forward(images[0,:])\n",
    "helper.view_classify(images[0].view(1, 28, 28), ps)"
   ]
  },
  {
   "cell_type": "markdown",
   "metadata": {},
   "source": [
    "Here our model is the same as before: 784 input units, a hidden layer with 128 units, ReLU activation, 64 unit hidden layer, another ReLU, then the output layer with 10 units, and the softmax output.\n",
    "\n",
    "The operations are availble by passing in the appropriate index. For example, if you want to get first Linear operation and look at the weights, you'd use `model[0]`."
   ]
  },
  {
   "cell_type": "code",
   "execution_count": 39,
   "metadata": {},
   "outputs": [
    {
     "name": "stdout",
     "output_type": "stream",
     "text": [
      "Linear(in_features=784, out_features=128, bias=True)\n"
     ]
    },
    {
     "data": {
      "text/plain": [
       "Parameter containing:\n",
       "tensor([[-1.4340e-02, -2.0247e-02,  2.7380e-02,  ..., -5.0960e-03,\n",
       "         -6.0484e-03,  1.5685e-02],\n",
       "        [ 2.7750e-02, -2.1217e-02, -1.8106e-02,  ..., -1.0955e-02,\n",
       "         -4.3993e-03,  1.4221e-03],\n",
       "        [ 2.0373e-02,  2.4325e-02,  2.8908e-02,  ...,  1.0851e-02,\n",
       "         -3.2897e-02, -3.4046e-02],\n",
       "        ...,\n",
       "        [ 1.2621e-02, -1.3451e-02, -2.9668e-02,  ...,  2.2839e-02,\n",
       "          1.8979e-02,  2.3011e-02],\n",
       "        [ 7.2286e-03, -8.2510e-03,  3.5631e-02,  ..., -9.0071e-03,\n",
       "         -3.3598e-02, -6.8985e-03],\n",
       "        [-1.7962e-03, -2.5904e-02,  1.6650e-03,  ..., -1.1925e-02,\n",
       "          3.0812e-02, -2.0120e-02]])"
      ]
     },
     "execution_count": 39,
     "metadata": {},
     "output_type": "execute_result"
    }
   ],
   "source": [
    "print(model[0])\n",
    "model[0].weight"
   ]
  },
  {
   "cell_type": "markdown",
   "metadata": {},
   "source": [
    "You can also pass in an `OrderedDict` to name the individual layers and operations, instead of using incremental integers. Note that dictionary keys must be unique, so _each operation must have a different name_."
   ]
  },
  {
   "cell_type": "code",
   "execution_count": 40,
   "metadata": {},
   "outputs": [
    {
     "data": {
      "text/plain": [
       "Sequential(\n",
       "  (fc1): Linear(in_features=784, out_features=128, bias=True)\n",
       "  (relu1): ReLU()\n",
       "  (fc2): Linear(in_features=128, out_features=64, bias=True)\n",
       "  (relu2): ReLU()\n",
       "  (output): Linear(in_features=64, out_features=10, bias=True)\n",
       "  (softmax): Softmax()\n",
       ")"
      ]
     },
     "execution_count": 40,
     "metadata": {},
     "output_type": "execute_result"
    }
   ],
   "source": [
    "from collections import OrderedDict\n",
    "model = nn.Sequential(OrderedDict([\n",
    "                      ('fc1', nn.Linear(input_size, hidden_sizes[0])),\n",
    "                      ('relu1', nn.ReLU()),\n",
    "                      ('fc2', nn.Linear(hidden_sizes[0], hidden_sizes[1])),\n",
    "                      ('relu2', nn.ReLU()),\n",
    "                      ('output', nn.Linear(hidden_sizes[1], output_size)),\n",
    "                      ('softmax', nn.Softmax(dim=1))]))\n",
    "model"
   ]
  },
  {
   "cell_type": "markdown",
   "metadata": {},
   "source": [
    "Now you can access layers either by integer or the name"
   ]
  },
  {
   "cell_type": "code",
   "execution_count": 45,
   "metadata": {},
   "outputs": [
    {
     "name": "stdout",
     "output_type": "stream",
     "text": [
      "Linear(in_features=128, out_features=64, bias=True)\n",
      "Linear(in_features=128, out_features=64, bias=True)\n"
     ]
    }
   ],
   "source": [
    "print(model[2])\n",
    "print(model.fc2)"
   ]
  },
  {
   "cell_type": "markdown",
   "metadata": {},
   "source": [
    "In the next notebook, we'll see how we can train a neural network to accuractly predict the numbers appearing in the MNIST images."
   ]
  }
 ],
 "metadata": {
  "kernelspec": {
   "display_name": "Python 3",
   "language": "python",
   "name": "python3"
  },
  "language_info": {
   "codemirror_mode": {
    "name": "ipython",
    "version": 3
   },
   "file_extension": ".py",
   "mimetype": "text/x-python",
   "name": "python",
   "nbconvert_exporter": "python",
   "pygments_lexer": "ipython3",
   "version": "3.6.3"
  }
 },
 "nbformat": 4,
 "nbformat_minor": 2
}
